{
  "nbformat": 4,
  "nbformat_minor": 0,
  "metadata": {
    "colab": {
      "provenance": []
    },
    "kernelspec": {
      "name": "python3",
      "display_name": "Python 3"
    },
    "language_info": {
      "name": "python"
    }
  },
  "cells": [
    {
      "cell_type": "code",
      "execution_count": 17,
      "metadata": {
        "id": "YdMTw2tmA6HF",
        "colab": {
          "base_uri": "https://localhost:8080/"
        },
        "outputId": "9f00df0c-6ffe-4523-b7cd-7ee237b267b1"
      },
      "outputs": [
        {
          "output_type": "stream",
          "name": "stdout",
          "text": [
            "Drive already mounted at /content/drive/; to attempt to forcibly remount, call drive.mount(\"/content/drive/\", force_remount=True).\n"
          ]
        }
      ],
      "source": [
        "from google.colab import drive\n",
        "drive.mount('/content/drive/')"
      ]
    },
    {
      "cell_type": "code",
      "source": [
        "import os\n",
        "import numpy as np\n",
        "import pandas as pd\n",
        "from sklearn import metrics\n",
        "from sklearn.metrics import r2_score, mean_absolute_error, mean_squared_error\n",
        "from sklearn.model_selection import train_test_split, TimeSeriesSplit\n",
        "from sklearn.multioutput import MultiOutputRegressor\n",
        "from sklearn.ensemble import RandomForestRegressor, GradientBoostingRegressor\n",
        "from sklearn.linear_model import LinearRegression, Ridge, Lasso\n",
        "from sklearn.preprocessing import MinMaxScaler, StandardScaler, TargetEncoder\n",
        "from xgboost import XGBRegressor\n",
        "from lightgbm import LGBMRegressor\n",
        "\n",
        "import warnings\n",
        "warnings.filterwarnings('ignore')"
      ],
      "metadata": {
        "id": "-LF436UgBSzr"
      },
      "execution_count": 18,
      "outputs": []
    },
    {
      "cell_type": "code",
      "source": [
        "# Подготовка данных\n",
        "path = \"/content/drive/MyDrive/ML/StickerBot/Stickers.csv\"\n",
        "df = pd.read_csv(path).dropna()\n",
        "df['date'] = pd.to_datetime(df['date'])\n",
        "df['date'] = pd.to_datetime(df['date'], format='%d.%m.%Y')\n",
        "df = df.sort_values(by='date')"
      ],
      "metadata": {
        "id": "G3E_tGQ4BVVc"
      },
      "execution_count": 19,
      "outputs": []
    },
    {
      "cell_type": "code",
      "source": [
        "# Определение целевых переменных\n",
        "target_columns = ['price_1', 'price_2', 'price_3', 'price_4', 'price_5', 'target_price']\n",
        "X = df.drop(target_columns, axis=1)\n",
        "y = df[target_columns]"
      ],
      "metadata": {
        "id": "q1PdlnEiBcA9"
      },
      "execution_count": 20,
      "outputs": []
    },
    {
      "cell_type": "code",
      "source": [
        "# Кодирование team_name\n",
        "encoder = TargetEncoder()\n",
        "X['team_name_encoded'] = encoder.fit_transform(X[['team_name']], y['target_price'].values)\n",
        "X = X.drop('team_name', axis=1)"
      ],
      "metadata": {
        "id": "AOrQZz93BinL"
      },
      "execution_count": 21,
      "outputs": []
    },
    {
      "cell_type": "code",
      "source": [
        "# Преобразование даты\n",
        "X['month'] = df['date'].dt.month\n",
        "X['year'] = df['date'].dt.year\n",
        "X['day'] = df['date'].dt.day\n",
        "X = X.drop('date', axis=1)"
      ],
      "metadata": {
        "id": "K5R3ubEHB6pT"
      },
      "execution_count": 22,
      "outputs": []
    },
    {
      "cell_type": "code",
      "source": [
        "# Шкалирование\n",
        "scaler = StandardScaler()\n",
        "numeric_cols = X.select_dtypes(include=['number']).columns\n",
        "X[numeric_cols] = scaler.fit_transform(X[numeric_cols])"
      ],
      "metadata": {
        "id": "8qf0LCwcB8bD"
      },
      "execution_count": 23,
      "outputs": []
    },
    {
      "cell_type": "code",
      "source": [
        "# Разделение данных\n",
        "tscv = TimeSeriesSplit(n_splits=5)\n",
        "for train_index, test_index in tscv.split(X):\n",
        "    X_train, X_test = X.iloc[train_index], X.iloc[test_index]\n",
        "    y_train, y_test = y.iloc[train_index], y.iloc[test_index]"
      ],
      "metadata": {
        "id": "3zwv0sO0B98a"
      },
      "execution_count": 24,
      "outputs": []
    },
    {
      "cell_type": "code",
      "source": [
        "# Преобразование типов\n",
        "X_train = X_train.astype(np.float32)\n",
        "X_test = X_test.astype(np.float32)\n",
        "y_train = y_train.astype(np.float32)\n",
        "y_test = y_test.astype(np.float32)"
      ],
      "metadata": {
        "id": "FtriL477DHqg"
      },
      "execution_count": 25,
      "outputs": []
    },
    {
      "cell_type": "code",
      "source": [
        "models = {\n",
        "    'Linear Regression': MultiOutputRegressor(LinearRegression()),\n",
        "    'Ridge': MultiOutputRegressor(Ridge(alpha=1.0)),\n",
        "    'Lasso': MultiOutputRegressor(Lasso(alpha=0.1)),\n",
        "    'Random Forest': RandomForestRegressor(n_estimators=1000, max_depth=8, random_state=42),\n",
        "    'XGBoost': MultiOutputRegressor(XGBRegressor(n_estimators=1000, max_depth=8, learning_rate=0.1, random_state=42)),\n",
        "    'LightGBM' : MultiOutputRegressor(LGBMRegressor(\n",
        "    n_estimators=500,\n",
        "      max_depth=7,\n",
        "      learning_rate=0.1,\n",
        "      num_leaves=31,\n",
        "      min_data_in_leaf=20,\n",
        "      feature_fraction=0.8,\n",
        "      bagging_fraction=0.8,\n",
        "      bagging_freq=5,\n",
        "      verbose=-1\n",
        "    ))\n",
        "}"
      ],
      "metadata": {
        "id": "ngx3xGWMCDn0"
      },
      "execution_count": 26,
      "outputs": []
    },
    {
      "cell_type": "code",
      "source": [
        "def evaluate_multioutput(model, X_train, y_train, X_test, y_test):\n",
        "    model.fit(X_train, y_train)\n",
        "    preds = model.predict(X_test)\n",
        "\n",
        "    metrics_dict = {\n",
        "        'RMSE': [],\n",
        "        'MAE': [],\n",
        "        'R2': []\n",
        "    }\n",
        "\n",
        "    for i in range(y_test.shape[1]):\n",
        "        rmse = np.sqrt(mean_squared_error(y_test.iloc[:, i], preds[:, i]))\n",
        "        mae = mean_absolute_error(y_test.iloc[:, i], preds[:, i])\n",
        "        r2 = r2_score(y_test.iloc[:, i], preds[:, i])\n",
        "\n",
        "        metrics_dict['RMSE'].append(rmse)\n",
        "        metrics_dict['MAE'].append(mae)\n",
        "        metrics_dict['R2'].append(r2)\n",
        "\n",
        "    return {\n",
        "        'Avg_RMSE': np.mean(metrics_dict['RMSE']),\n",
        "        'Avg_MAE': np.mean(metrics_dict['MAE']),\n",
        "        'Avg_R2': np.mean(metrics_dict['R2']),\n",
        "        'Metrics_by_month': metrics_dict\n",
        "    }"
      ],
      "metadata": {
        "id": "IjOU_2nJCBW1"
      },
      "execution_count": 27,
      "outputs": []
    },
    {
      "cell_type": "code",
      "source": [
        "# Обучение и оценка моделей\n",
        "results = {}\n",
        "for name, model in models.items():\n",
        "    print(f\"Training {name}...\")\n",
        "    results[name] = evaluate_multioutput(model, X_train, y_train, X_test, y_test)"
      ],
      "metadata": {
        "id": "9VppcbBECHU0",
        "colab": {
          "base_uri": "https://localhost:8080/"
        },
        "outputId": "5853cd23-eee3-41fd-a281-16a907e1d5fb"
      },
      "execution_count": 28,
      "outputs": [
        {
          "output_type": "stream",
          "name": "stdout",
          "text": [
            "Training Linear Regression...\n",
            "Training Ridge...\n",
            "Training Lasso...\n",
            "Training Random Forest...\n",
            "Training XGBoost...\n",
            "Training LightGBM...\n"
          ]
        }
      ]
    },
    {
      "cell_type": "code",
      "source": [
        "# Вывод результатов\n",
        "results_df = pd.DataFrame({\n",
        "    'Model': list(results.keys()),\n",
        "    'Avg_RMSE': [v['Avg_RMSE'] for v in results.values()],\n",
        "    'Avg_MAE': [v['Avg_MAE'] for v in results.values()],\n",
        "    'Avg_R2': [v['Avg_R2'] for v in results.values()]\n",
        "}).set_index('Model')\n",
        "\n",
        "print(\"Средние метрики по всем горизонтам:\")\n",
        "print(results_df.sort_values(by='Avg_RMSE'))"
      ],
      "metadata": {
        "id": "pi8FT3SkCMCb",
        "colab": {
          "base_uri": "https://localhost:8080/"
        },
        "outputId": "0b432060-6e17-4218-9a7b-69555ceb857f"
      },
      "execution_count": 29,
      "outputs": [
        {
          "output_type": "stream",
          "name": "stdout",
          "text": [
            "Средние метрики по всем горизонтам:\n",
            "                     Avg_RMSE     Avg_MAE    Avg_R2\n",
            "Model                                              \n",
            "Random Forest      104.649331   49.334356  0.850367\n",
            "Lasso              105.251304   69.014927  0.862059\n",
            "Linear Regression  105.279325   69.039456  0.861897\n",
            "Ridge              105.513997   68.437304  0.862729\n",
            "XGBoost            114.225314   52.729616  0.852015\n",
            "LightGBM           216.108364  140.661229  0.443794\n"
          ]
        }
      ]
    },
    {
      "cell_type": "code",
      "source": [
        "# Детальные метрики по месяцам для лучшей модели\n",
        "best_model_name = results_df['Avg_RMSE'].idxmin()\n",
        "print(f\"\\nДетальные метрики для {best_model_name}:\")\n",
        "for i, month in enumerate(['1', '2', '3', '4', '5', '6']):\n",
        "    print(f\"Месяц {month}:\")\n",
        "    print(f\"RMSE: {results[best_model_name]['Metrics_by_month']['RMSE'][i]:.2f}\")\n",
        "    print(f\"MAE: {results[best_model_name]['Metrics_by_month']['MAE'][i]:.2f}\")\n",
        "    print(f\"R2: {results[best_model_name]['Metrics_by_month']['R2'][i]:.2f}\\n\")"
      ],
      "metadata": {
        "colab": {
          "base_uri": "https://localhost:8080/"
        },
        "id": "zZnJTY_XjnOe",
        "outputId": "bd684d46-b9a9-49c8-c566-46ef653762f1"
      },
      "execution_count": 30,
      "outputs": [
        {
          "output_type": "stream",
          "name": "stdout",
          "text": [
            "\n",
            "Детальные метрики для Random Forest:\n",
            "Месяц 1:\n",
            "RMSE: 86.39\n",
            "MAE: 42.12\n",
            "R2: 0.95\n",
            "\n",
            "Месяц 2:\n",
            "RMSE: 66.87\n",
            "MAE: 28.64\n",
            "R2: 0.96\n",
            "\n",
            "Месяц 3:\n",
            "RMSE: 103.21\n",
            "MAE: 49.09\n",
            "R2: 0.88\n",
            "\n",
            "Месяц 4:\n",
            "RMSE: 155.44\n",
            "MAE: 72.40\n",
            "R2: 0.76\n",
            "\n",
            "Месяц 5:\n",
            "RMSE: 126.86\n",
            "MAE: 58.97\n",
            "R2: 0.70\n",
            "\n",
            "Месяц 6:\n",
            "RMSE: 89.13\n",
            "MAE: 44.79\n",
            "R2: 0.85\n",
            "\n"
          ]
        }
      ]
    }
  ]
}